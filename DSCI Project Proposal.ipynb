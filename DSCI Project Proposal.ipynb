{
 "cells": [
  {
   "cell_type": "markdown",
   "metadata": {},
   "source": [
    "# Classifying Attributes that Best Predict Heart Disease"
   ]
  },
  {
   "cell_type": "markdown",
   "metadata": {},
   "source": [
    "### Introduction"
   ]
  },
  {
   "cell_type": "markdown",
   "metadata": {},
   "source": [
    "According to Statistics Canada, heart disease is the second leading cause of death in 2019, accounting for 18.5% of all deaths. So by using the Heart Disease data set, we will determine the three attributes (i.e. characteristics or factors) that can best predict the presence of heart disease in a person. \n",
    "The data set contains four datasets concerning heart-disease related characteristics, and each data set contains 14 attributes organized into 14 variables and 302 observations. All the data is of type double, and they were collected from the following institutes:\n",
    "1. Cleveland Clinic Foundation (cleveland.data)\n",
    "2. Hungarian Institute of Cardiology, Budapest (hungarian.data)\n",
    "3. V.A. Medical Center, Long Beach, CA (long-beach-va.data)\n",
    "4. University Hospital, Zurich, Switzerland (switzerland.data)\n"
   ]
  },
  {
   "cell_type": "markdown",
   "metadata": {},
   "source": [
    "### Preliminary Exploratory Data Analysis"
   ]
  },
  {
   "cell_type": "code",
   "execution_count": 51,
   "metadata": {},
   "outputs": [],
   "source": [
    "library(tidyverse)\n",
    "library(repr)\n",
    "library(broom)\n",
    "library(GGally)\n",
    "library(tidymodels)\n",
    "library(data.table)\n",
    "options(repr.matrix.max.rows = 6)"
   ]
  },
  {
   "cell_type": "code",
   "execution_count": 52,
   "metadata": {},
   "outputs": [
    {
     "name": "stderr",
     "output_type": "stream",
     "text": [
      "Warning message:\n",
      "“Duplicated column names deduplicated: '1.0' => '1.0_1' [3], '1.0' => '1.0_2' [6], '0.0' => '0.0_1' [12]”\n",
      "Parsed with column specification:\n",
      "cols(\n",
      "  `63.0` = \u001b[32mcol_double()\u001b[39m,\n",
      "  `1.0` = \u001b[32mcol_double()\u001b[39m,\n",
      "  `1.0_1` = \u001b[32mcol_double()\u001b[39m,\n",
      "  `145.0` = \u001b[32mcol_double()\u001b[39m,\n",
      "  `233.0` = \u001b[32mcol_double()\u001b[39m,\n",
      "  `1.0_2` = \u001b[32mcol_double()\u001b[39m,\n",
      "  `2.0` = \u001b[32mcol_double()\u001b[39m,\n",
      "  `150.0` = \u001b[32mcol_double()\u001b[39m,\n",
      "  `0.0` = \u001b[32mcol_double()\u001b[39m,\n",
      "  `2.3` = \u001b[32mcol_double()\u001b[39m,\n",
      "  `3.0` = \u001b[32mcol_double()\u001b[39m,\n",
      "  `0.0_1` = \u001b[31mcol_character()\u001b[39m,\n",
      "  `6.0` = \u001b[31mcol_character()\u001b[39m,\n",
      "  `0` = \u001b[32mcol_double()\u001b[39m\n",
      ")\n",
      "\n"
     ]
    }
   ],
   "source": [
    "set.seed(2000)\n",
    "\n",
    "heart_disease <- read_csv(url('https://archive.ics.uci.edu/ml/machine-learning-databases/heart-disease/processed.cleveland.data'))"
   ]
  },
  {
   "cell_type": "markdown",
   "metadata": {},
   "source": [
    "We set the seed so our code is reproduceable and loaded in our heart disease data."
   ]
  },
  {
   "cell_type": "code",
   "execution_count": 53,
   "metadata": {},
   "outputs": [
    {
     "name": "stderr",
     "output_type": "stream",
     "text": [
      "`summarise()` ungrouping output (override with `.groups` argument)\n",
      "\n"
     ]
    },
    {
     "data": {
      "text/html": [
       "<table>\n",
       "<caption>A tibble: 2 × 2</caption>\n",
       "<thead>\n",
       "\t<tr><th scope=col>presence_of_h_d</th><th scope=col>n</th></tr>\n",
       "\t<tr><th scope=col>&lt;fct&gt;</th><th scope=col>&lt;int&gt;</th></tr>\n",
       "</thead>\n",
       "<tbody>\n",
       "\t<tr><td>0</td><td>163</td></tr>\n",
       "\t<tr><td>1</td><td>163</td></tr>\n",
       "</tbody>\n",
       "</table>\n"
      ],
      "text/latex": [
       "A tibble: 2 × 2\n",
       "\\begin{tabular}{ll}\n",
       " presence\\_of\\_h\\_d & n\\\\\n",
       " <fct> & <int>\\\\\n",
       "\\hline\n",
       "\t 0 & 163\\\\\n",
       "\t 1 & 163\\\\\n",
       "\\end{tabular}\n"
      ],
      "text/markdown": [
       "\n",
       "A tibble: 2 × 2\n",
       "\n",
       "| presence_of_h_d &lt;fct&gt; | n &lt;int&gt; |\n",
       "|---|---|\n",
       "| 0 | 163 |\n",
       "| 1 | 163 |\n",
       "\n"
      ],
      "text/plain": [
       "  presence_of_h_d n  \n",
       "1 0               163\n",
       "2 1               163"
      ]
     },
     "metadata": {},
     "output_type": "display_data"
    }
   ],
   "source": [
    "names(heart_disease) <- c(\"age\", \"sex\", \"chest_pain_type\", \"resting_bp\", \"chol\", \"fasting_blood_sugar\", \"resting_electrocardiographic_results\", \"maximum_heart_rate_achieved\", \"exercise_induced_angina\", \"oldpeak\", \"slope\", \"ca\", \"thal\", \"presence_of_h_d\")\n",
    "\n",
    "heart_disease_select_data <- heart_disease %>%\n",
    "select(-chest_pain_type, -fasting_blood_sugar, -resting_electrocardiographic_results, -exercise_induced_angina, -oldpeak, -slope, -thal, -ca, -sex)\n",
    "\n",
    "heart_disease_data_0 <- heart_disease_select_data %>%\n",
    "filter(presence_of_h_d == 0)\n",
    "\n",
    "heart_disease_data_1 <- heart_disease_select_data %>%\n",
    "filter(presence_of_h_d > 0) %>%\n",
    "mutate(presence_of_h_d = 1)\n",
    "\n",
    "heart_disease_data <- rbind(heart_disease_data_0, heart_disease_data_1) %>% \n",
    "mutate(presence_of_h_d = as_factor(presence_of_h_d))\n",
    "\n",
    "ups_recipe <-recipe(presence_of_h_d~ ., data = heart_disease_data) %>% step_upsample(presence_of_h_d, over_ratio = 1, skip = FALSE) %>% prep()\n",
    "scaled_data<-bake(ups_recipe, heart_disease_data)\n",
    "scaled_data %>%group_by(presence_of_h_d)%>%summarize(n=n())\n"
   ]
  },
  {
   "cell_type": "markdown",
   "metadata": {},
   "source": [
    "Tidying and cleaning the data. We decided to remove sex since it is categorical so we can't use it."
   ]
  },
  {
   "cell_type": "code",
   "execution_count": 54,
   "metadata": {},
   "outputs": [],
   "source": [
    "heart_split <- initial_split(scaled_data, prop = 0.66, strata = presence_of_h_d) \n",
    "training_data <- training(heart_split) \n",
    "testing_data <- testing(heart_split)"
   ]
  },
  {
   "cell_type": "markdown",
   "metadata": {},
   "source": [
    "Here, we are split the tidied heart disease data into training and testing data. We chose to split 66% of the data for training as it was recommended in the readings to split training to testing in a 2:1 ratio."
   ]
  },
  {
   "cell_type": "code",
   "execution_count": 81,
   "metadata": {},
   "outputs": [
    {
     "ename": "ERROR",
     "evalue": "Error in `+.gg`(ggpairs(training_data, aes(color = presence_of_h_d)) + : 'ggmatrix' does not know how to add objects that do not have class 'theme' or 'labels'. Received object with class: 'ScaleDiscrete, Scale, ggproto, gg'\n",
     "output_type": "error",
     "traceback": [
      "Error in `+.gg`(ggpairs(training_data, aes(color = presence_of_h_d)) + : 'ggmatrix' does not know how to add objects that do not have class 'theme' or 'labels'. Received object with class: 'ScaleDiscrete, Scale, ggproto, gg'\nTraceback:\n",
      "1. `+.gg`(ggpairs(training_data, aes(color = presence_of_h_d)) + \n .     theme(text = element_text(size = 30)), scale_fill_manual(values = colors))",
      "2. stop(\"'ggmatrix' does not know how to add objects that do not have class 'theme' or 'labels'.\", \n .     \" Received object with class: '\", paste(class(e2), collapse = \", \"), \n .     \"'\")"
     ]
    }
   ],
   "source": [
    "options(repr.plot.width=30,repr.plot.height=30)\n",
    "colors<-c(\"1\"=\"blue\", \"0\"=\"red\")\n",
    "ggpairs(training_data, aes(color=presence_of_h_d))+\n",
    "theme(text=element_text(size=30))+scale_fill_manual(values = colors)\n",
    "\n"
   ]
  },
  {
   "cell_type": "markdown",
   "metadata": {},
   "source": [
    "Note:\n",
    "There is no missing data in the training data set."
   ]
  },
  {
   "cell_type": "markdown",
   "metadata": {},
   "source": [
    "### Visualization example"
   ]
  },
  {
   "cell_type": "markdown",
   "metadata": {},
   "source": [
    "All predictors, serves as our baseline reference."
   ]
  },
  {
   "cell_type": "code",
   "execution_count": 56,
   "metadata": {},
   "outputs": [
    {
     "data": {
      "text/plain": [
       "Data Recipe\n",
       "\n",
       "Inputs:\n",
       "\n",
       "      role #variables\n",
       "   outcome          1\n",
       " predictor          4\n",
       "\n",
       "Operations:\n",
       "\n",
       "Scaling for all_predictors()\n",
       "Centering for all_predictors()"
      ]
     },
     "metadata": {},
     "output_type": "display_data"
    },
    {
     "data": {
      "text/html": [
       "<table>\n",
       "<caption>A tibble: 2 × 3</caption>\n",
       "<thead>\n",
       "\t<tr><th scope=col>.metric</th><th scope=col>.estimator</th><th scope=col>.estimate</th></tr>\n",
       "\t<tr><th scope=col>&lt;chr&gt;</th><th scope=col>&lt;chr&gt;</th><th scope=col>&lt;dbl&gt;</th></tr>\n",
       "</thead>\n",
       "<tbody>\n",
       "\t<tr><td>accuracy</td><td>binary</td><td>0.6272727</td></tr>\n",
       "\t<tr><td>kap     </td><td>binary</td><td>0.2545455</td></tr>\n",
       "</tbody>\n",
       "</table>\n"
      ],
      "text/latex": [
       "A tibble: 2 × 3\n",
       "\\begin{tabular}{lll}\n",
       " .metric & .estimator & .estimate\\\\\n",
       " <chr> & <chr> & <dbl>\\\\\n",
       "\\hline\n",
       "\t accuracy & binary & 0.6272727\\\\\n",
       "\t kap      & binary & 0.2545455\\\\\n",
       "\\end{tabular}\n"
      ],
      "text/markdown": [
       "\n",
       "A tibble: 2 × 3\n",
       "\n",
       "| .metric &lt;chr&gt; | .estimator &lt;chr&gt; | .estimate &lt;dbl&gt; |\n",
       "|---|---|---|\n",
       "| accuracy | binary | 0.6272727 |\n",
       "| kap      | binary | 0.2545455 |\n",
       "\n"
      ],
      "text/plain": [
       "  .metric  .estimator .estimate\n",
       "1 accuracy binary     0.6272727\n",
       "2 kap      binary     0.2545455"
      ]
     },
     "metadata": {},
     "output_type": "display_data"
    },
    {
     "data": {
      "text/plain": [
       "          Truth\n",
       "Prediction  0  1\n",
       "         0 32 18\n",
       "         1 23 37"
      ]
     },
     "metadata": {},
     "output_type": "display_data"
    },
    {
     "data": {
      "image/png": "[encoded data removed]",
      "text/plain": [
       "plot without title"
      ]
     },
     "metadata": {
      "image/png": {
       "height": 420,
       "width": 420
      }
     },
     "output_type": "display_data"
    }
   ],
   "source": [
    "set.seed(2000)\n",
    "#Recipe\n",
    "recipe <- recipe(presence_of_h_d ~ ., data = training_data) %>% step_scale(all_predictors()) %>% step_center(all_predictors())\n",
    "recipe\n",
    "#vfolds\n",
    "train_vfold <- vfold_cv(training_data, v = 10, strata = presence_of_h_d)\n",
    "#specs\n",
    "spec <- nearest_neighbor(weight_func = \"rectangular\", neighbors = tune()) %>%\n",
    "      set_engine(\"kknn\") %>%\n",
    "      set_mode(\"classification\")\n",
    "\n",
    "training_fit <- workflow() %>%\n",
    "      add_recipe(recipe) %>%\n",
    "      add_model(spec) %>%\n",
    "      tune_grid(resamples = train_vfold, grid = 10) %>%\n",
    "      collect_metrics() \n",
    "\n",
    "# training_fit\n",
    "\n",
    "accuracies <- training_fit %>% \n",
    "      filter(.metric == \"accuracy\")\n",
    "\n",
    "cross_val_plot <- accuracies %>%\n",
    "     ggplot(aes(x = neighbors, y = mean))+\n",
    "      geom_point() +\n",
    "      geom_line() +\n",
    "      labs(x = \"Neighbors\", y = \"Accuracy\") +\n",
    "     theme(text = element_text (size = 16))\n",
    "\n",
    "cross_val_plot\n",
    "\n",
    "k_for_all <- 13\n",
    "\n",
    "spec <- nearest_neighbor(weight_func = \"rectangular\", neighbors = k_for_all) %>%\n",
    "      set_engine(\"kknn\") %>%\n",
    "      set_mode(\"classification\")\n",
    "\n",
    "fit <- workflow() %>%\n",
    "      add_recipe(recipe) %>%\n",
    "      add_model(spec) %>%\n",
    "      fit(data = training_data)\n",
    "\n",
    "predictions_all <-predict(fit, testing_data) %>% bind_cols(testing_data) %>% metrics(truth = presence_of_h_d, estimate = .pred_class)\n",
    "predictions_all\n",
    "predictions_matixs <- predict(fit, testing_data) %>% bind_cols(testing_data)%>%\n",
    "     conf_mat(truth=presence_of_h_d,estimate=.pred_class)\n",
    "predictions_matixs\n"
   ]
  },
  {
   "cell_type": "markdown",
   "metadata": {},
   "source": [
    "#### 1. Using only Age (age) as a predictor"
   ]
  },
  {
   "cell_type": "code",
   "execution_count": 57,
   "metadata": {},
   "outputs": [
    {
     "data": {
      "text/html": [
       "<table>\n",
       "<caption>A tibble: 9 × 7</caption>\n",
       "<thead>\n",
       "\t<tr><th scope=col>neighbors</th><th scope=col>.metric</th><th scope=col>.estimator</th><th scope=col>mean</th><th scope=col>n</th><th scope=col>std_err</th><th scope=col>.config</th></tr>\n",
       "\t<tr><th scope=col>&lt;int&gt;</th><th scope=col>&lt;chr&gt;</th><th scope=col>&lt;chr&gt;</th><th scope=col>&lt;dbl&gt;</th><th scope=col>&lt;int&gt;</th><th scope=col>&lt;dbl&gt;</th><th scope=col>&lt;chr&gt;</th></tr>\n",
       "</thead>\n",
       "<tbody>\n",
       "\t<tr><td>1</td><td>accuracy</td><td>binary</td><td>0.5454545</td><td>10</td><td>0.03046171</td><td>Model1</td></tr>\n",
       "\t<tr><td>3</td><td>accuracy</td><td>binary</td><td>0.4950000</td><td>10</td><td>0.01980680</td><td>Model2</td></tr>\n",
       "\t<tr><td>4</td><td>accuracy</td><td>binary</td><td>0.4713636</td><td>10</td><td>0.02707038</td><td>Model3</td></tr>\n",
       "\t<tr><td>⋮</td><td>⋮</td><td>⋮</td><td>⋮</td><td>⋮</td><td>⋮</td><td>⋮</td></tr>\n",
       "\t<tr><td>11</td><td>accuracy</td><td>binary</td><td>0.5313636</td><td>10</td><td>0.03725209</td><td>Model7</td></tr>\n",
       "\t<tr><td>12</td><td>accuracy</td><td>binary</td><td>0.5413636</td><td>10</td><td>0.03380146</td><td>Model8</td></tr>\n",
       "\t<tr><td>15</td><td>accuracy</td><td>binary</td><td>0.5490909</td><td>10</td><td>0.03577683</td><td>Model9</td></tr>\n",
       "</tbody>\n",
       "</table>\n"
      ],
      "text/latex": [
       "A tibble: 9 × 7\n",
       "\\begin{tabular}{lllllll}\n",
       " neighbors & .metric & .estimator & mean & n & std\\_err & .config\\\\\n",
       " <int> & <chr> & <chr> & <dbl> & <int> & <dbl> & <chr>\\\\\n",
       "\\hline\n",
       "\t 1 & accuracy & binary & 0.5454545 & 10 & 0.03046171 & Model1\\\\\n",
       "\t 3 & accuracy & binary & 0.4950000 & 10 & 0.01980680 & Model2\\\\\n",
       "\t 4 & accuracy & binary & 0.4713636 & 10 & 0.02707038 & Model3\\\\\n",
       "\t ⋮ & ⋮ & ⋮ & ⋮ & ⋮ & ⋮ & ⋮\\\\\n",
       "\t 11 & accuracy & binary & 0.5313636 & 10 & 0.03725209 & Model7\\\\\n",
       "\t 12 & accuracy & binary & 0.5413636 & 10 & 0.03380146 & Model8\\\\\n",
       "\t 15 & accuracy & binary & 0.5490909 & 10 & 0.03577683 & Model9\\\\\n",
       "\\end{tabular}\n"
      ],
      "text/markdown": [
       "\n",
       "A tibble: 9 × 7\n",
       "\n",
       "| neighbors &lt;int&gt; | .metric &lt;chr&gt; | .estimator &lt;chr&gt; | mean &lt;dbl&gt; | n &lt;int&gt; | std_err &lt;dbl&gt; | .config &lt;chr&gt; |\n",
       "|---|---|---|---|---|---|---|\n",
       "| 1 | accuracy | binary | 0.5454545 | 10 | 0.03046171 | Model1 |\n",
       "| 3 | accuracy | binary | 0.4950000 | 10 | 0.01980680 | Model2 |\n",
       "| 4 | accuracy | binary | 0.4713636 | 10 | 0.02707038 | Model3 |\n",
       "| ⋮ | ⋮ | ⋮ | ⋮ | ⋮ | ⋮ | ⋮ |\n",
       "| 11 | accuracy | binary | 0.5313636 | 10 | 0.03725209 | Model7 |\n",
       "| 12 | accuracy | binary | 0.5413636 | 10 | 0.03380146 | Model8 |\n",
       "| 15 | accuracy | binary | 0.5490909 | 10 | 0.03577683 | Model9 |\n",
       "\n"
      ],
      "text/plain": [
       "  neighbors .metric  .estimator mean      n  std_err    .config\n",
       "1 1         accuracy binary     0.5454545 10 0.03046171 Model1 \n",
       "2 3         accuracy binary     0.4950000 10 0.01980680 Model2 \n",
       "3 4         accuracy binary     0.4713636 10 0.02707038 Model3 \n",
       "⋮ ⋮         ⋮        ⋮          ⋮         ⋮  ⋮          ⋮      \n",
       "7 11        accuracy binary     0.5313636 10 0.03725209 Model7 \n",
       "8 12        accuracy binary     0.5413636 10 0.03380146 Model8 \n",
       "9 15        accuracy binary     0.5490909 10 0.03577683 Model9 "
      ]
     },
     "metadata": {},
     "output_type": "display_data"
    },
    {
     "data": {
      "text/html": [
       "<table>\n",
       "<caption>A tibble: 2 × 3</caption>\n",
       "<thead>\n",
       "\t<tr><th scope=col>.metric</th><th scope=col>.estimator</th><th scope=col>.estimate</th></tr>\n",
       "\t<tr><th scope=col>&lt;chr&gt;</th><th scope=col>&lt;chr&gt;</th><th scope=col>&lt;dbl&gt;</th></tr>\n",
       "</thead>\n",
       "<tbody>\n",
       "\t<tr><td>accuracy</td><td>binary</td><td>0.6272727</td></tr>\n",
       "\t<tr><td>kap     </td><td>binary</td><td>0.2545455</td></tr>\n",
       "</tbody>\n",
       "</table>\n"
      ],
      "text/latex": [
       "A tibble: 2 × 3\n",
       "\\begin{tabular}{lll}\n",
       " .metric & .estimator & .estimate\\\\\n",
       " <chr> & <chr> & <dbl>\\\\\n",
       "\\hline\n",
       "\t accuracy & binary & 0.6272727\\\\\n",
       "\t kap      & binary & 0.2545455\\\\\n",
       "\\end{tabular}\n"
      ],
      "text/markdown": [
       "\n",
       "A tibble: 2 × 3\n",
       "\n",
       "| .metric &lt;chr&gt; | .estimator &lt;chr&gt; | .estimate &lt;dbl&gt; |\n",
       "|---|---|---|\n",
       "| accuracy | binary | 0.6272727 |\n",
       "| kap      | binary | 0.2545455 |\n",
       "\n"
      ],
      "text/plain": [
       "  .metric  .estimator .estimate\n",
       "1 accuracy binary     0.6272727\n",
       "2 kap      binary     0.2545455"
      ]
     },
     "metadata": {},
     "output_type": "display_data"
    },
    {
     "data": {
      "text/plain": [
       "          Truth\n",
       "Prediction  0  1\n",
       "         0 37 25\n",
       "         1 18 30"
      ]
     },
     "metadata": {},
     "output_type": "display_data"
    },
    {
     "data": {
      "image/png": "[encoded data removed]",
      "text/plain": [
       "plot without title"
      ]
     },
     "metadata": {
      "image/png": {
       "height": 420,
       "width": 420
      }
     },
     "output_type": "display_data"
    }
   ],
   "source": [
    "set.seed(2000)\n",
    "recipe_age <- recipe(presence_of_h_d ~ age, data = training_data) %>% step_scale(all_predictors()) %>% step_center(all_predictors())\n",
    "\n",
    "train_vfold_age <- vfold_cv(training_data, v = 10, strata = presence_of_h_d)\n",
    "\n",
    "spec_age <- nearest_neighbor(weight_func = \"rectangular\", neighbors = tune()) %>%\n",
    "      set_engine(\"kknn\") %>%\n",
    "      set_mode(\"classification\")\n",
    "\n",
    "training_fit_age <- workflow() %>%\n",
    "      add_recipe(recipe_age) %>%\n",
    "      add_model(spec_age) %>%\n",
    "      tune_grid(resamples = train_vfold_age, grid = 10) %>%\n",
    "      collect_metrics() \n",
    "\n",
    "# training_fit\n",
    "\n",
    "accuracies_age <- training_fit_age %>% \n",
    "      filter(.metric == \"accuracy\")\n",
    "\n",
    "cross_val_plot_age <- accuracies_age %>%\n",
    "     ggplot(aes(x = neighbors, y = mean))+\n",
    "      geom_point() +\n",
    "      geom_line() +\n",
    "      labs(x = \"Neighbors\", y = \"Accuracy\") +\n",
    "     theme(text = element_text (size = 16))\n",
    "\n",
    "cross_val_plot_age\n",
    "\n",
    "k_for_all_age <- accuracies_age %>% arrange(desc(mean)) %>% head(1) %>% pull(neighbors)\n",
    "accuracies_age\n",
    "\n",
    "spec_age_tune <- nearest_neighbor(weight_func = \"rectangular\", neighbors = k_for_all_age) %>%\n",
    "      set_engine(\"kknn\") %>%\n",
    "      set_mode(\"classification\")\n",
    "\n",
    "fit_age <- workflow() %>%\n",
    "      add_recipe(recipe_age) %>%\n",
    "      add_model(spec_age_tune) %>%\n",
    "      fit(data = training_data)\n",
    "\n",
    "predictions_all_age <-predict(fit_age, testing_data) %>% bind_cols(testing_data) %>% metrics(truth = presence_of_h_d, estimate = .pred_class)\n",
    "predictions_all\n",
    "predictions_matixs_age <- predict(fit_age, testing_data) %>% bind_cols(testing_data)%>%\n",
    "     conf_mat(truth=presence_of_h_d,estimate=.pred_class)\n",
    "predictions_matixs_age\n",
    "\n",
    "#Pull results\n",
    "age_accuracy<-predictions_all_age %>% filter(.metric == \"accuracy\") %>% pull(.estimate)"
   ]
  },
  {
   "cell_type": "markdown",
   "metadata": {},
   "source": [
    "#### 2. Using only Resting Blood Pressure (resting_bp) as a predictor:"
   ]
  },
  {
   "cell_type": "code",
   "execution_count": 58,
   "metadata": {},
   "outputs": [
    {
     "data": {
      "text/plain": [
       "Data Recipe\n",
       "\n",
       "Inputs:\n",
       "\n",
       "      role #variables\n",
       "   outcome          1\n",
       " predictor          1\n",
       "\n",
       "Operations:\n",
       "\n",
       "Scaling for all_predictors()\n",
       "Centering for all_predictors()"
      ]
     },
     "metadata": {},
     "output_type": "display_data"
    },
    {
     "data": {
      "text/html": [
       "<table>\n",
       "<caption>A tibble: 9 × 7</caption>\n",
       "<thead>\n",
       "\t<tr><th scope=col>neighbors</th><th scope=col>.metric</th><th scope=col>.estimator</th><th scope=col>mean</th><th scope=col>n</th><th scope=col>std_err</th><th scope=col>.config</th></tr>\n",
       "\t<tr><th scope=col>&lt;int&gt;</th><th scope=col>&lt;chr&gt;</th><th scope=col>&lt;chr&gt;</th><th scope=col>&lt;dbl&gt;</th><th scope=col>&lt;int&gt;</th><th scope=col>&lt;dbl&gt;</th><th scope=col>&lt;chr&gt;</th></tr>\n",
       "</thead>\n",
       "<tbody>\n",
       "\t<tr><td>1</td><td>accuracy</td><td>binary</td><td>0.5081818</td><td>10</td><td>0.02170213</td><td>Model1</td></tr>\n",
       "\t<tr><td>3</td><td>accuracy</td><td>binary</td><td>0.5550000</td><td>10</td><td>0.02119534</td><td>Model2</td></tr>\n",
       "\t<tr><td>4</td><td>accuracy</td><td>binary</td><td>0.5500000</td><td>10</td><td>0.02594407</td><td>Model3</td></tr>\n",
       "\t<tr><td>⋮</td><td>⋮</td><td>⋮</td><td>⋮</td><td>⋮</td><td>⋮</td><td>⋮</td></tr>\n",
       "\t<tr><td>11</td><td>accuracy</td><td>binary</td><td>0.5959091</td><td>10</td><td>0.03161152</td><td>Model7</td></tr>\n",
       "\t<tr><td>12</td><td>accuracy</td><td>binary</td><td>0.5959091</td><td>10</td><td>0.03161152</td><td>Model8</td></tr>\n",
       "\t<tr><td>15</td><td>accuracy</td><td>binary</td><td>0.5459091</td><td>10</td><td>0.04145234</td><td>Model9</td></tr>\n",
       "</tbody>\n",
       "</table>\n"
      ],
      "text/latex": [
       "A tibble: 9 × 7\n",
       "\\begin{tabular}{lllllll}\n",
       " neighbors & .metric & .estimator & mean & n & std\\_err & .config\\\\\n",
       " <int> & <chr> & <chr> & <dbl> & <int> & <dbl> & <chr>\\\\\n",
       "\\hline\n",
       "\t 1 & accuracy & binary & 0.5081818 & 10 & 0.02170213 & Model1\\\\\n",
       "\t 3 & accuracy & binary & 0.5550000 & 10 & 0.02119534 & Model2\\\\\n",
       "\t 4 & accuracy & binary & 0.5500000 & 10 & 0.02594407 & Model3\\\\\n",
       "\t ⋮ & ⋮ & ⋮ & ⋮ & ⋮ & ⋮ & ⋮\\\\\n",
       "\t 11 & accuracy & binary & 0.5959091 & 10 & 0.03161152 & Model7\\\\\n",
       "\t 12 & accuracy & binary & 0.5959091 & 10 & 0.03161152 & Model8\\\\\n",
       "\t 15 & accuracy & binary & 0.5459091 & 10 & 0.04145234 & Model9\\\\\n",
       "\\end{tabular}\n"
      ],
      "text/markdown": [
       "\n",
       "A tibble: 9 × 7\n",
       "\n",
       "| neighbors &lt;int&gt; | .metric &lt;chr&gt; | .estimator &lt;chr&gt; | mean &lt;dbl&gt; | n &lt;int&gt; | std_err &lt;dbl&gt; | .config &lt;chr&gt; |\n",
       "|---|---|---|---|---|---|---|\n",
       "| 1 | accuracy | binary | 0.5081818 | 10 | 0.02170213 | Model1 |\n",
       "| 3 | accuracy | binary | 0.5550000 | 10 | 0.02119534 | Model2 |\n",
       "| 4 | accuracy | binary | 0.5500000 | 10 | 0.02594407 | Model3 |\n",
       "| ⋮ | ⋮ | ⋮ | ⋮ | ⋮ | ⋮ | ⋮ |\n",
       "| 11 | accuracy | binary | 0.5959091 | 10 | 0.03161152 | Model7 |\n",
       "| 12 | accuracy | binary | 0.5959091 | 10 | 0.03161152 | Model8 |\n",
       "| 15 | accuracy | binary | 0.5459091 | 10 | 0.04145234 | Model9 |\n",
       "\n"
      ],
      "text/plain": [
       "  neighbors .metric  .estimator mean      n  std_err    .config\n",
       "1 1         accuracy binary     0.5081818 10 0.02170213 Model1 \n",
       "2 3         accuracy binary     0.5550000 10 0.02119534 Model2 \n",
       "3 4         accuracy binary     0.5500000 10 0.02594407 Model3 \n",
       "⋮ ⋮         ⋮        ⋮          ⋮         ⋮  ⋮          ⋮      \n",
       "7 11        accuracy binary     0.5959091 10 0.03161152 Model7 \n",
       "8 12        accuracy binary     0.5959091 10 0.03161152 Model8 \n",
       "9 15        accuracy binary     0.5459091 10 0.04145234 Model9 "
      ]
     },
     "metadata": {},
     "output_type": "display_data"
    },
    {
     "data": {
      "text/html": [
       "11"
      ],
      "text/latex": [
       "11"
      ],
      "text/markdown": [
       "11"
      ],
      "text/plain": [
       "[1] 11"
      ]
     },
     "metadata": {},
     "output_type": "display_data"
    },
    {
     "data": {
      "text/html": [
       "<table>\n",
       "<caption>A tibble: 2 × 3</caption>\n",
       "<thead>\n",
       "\t<tr><th scope=col>.metric</th><th scope=col>.estimator</th><th scope=col>.estimate</th></tr>\n",
       "\t<tr><th scope=col>&lt;chr&gt;</th><th scope=col>&lt;chr&gt;</th><th scope=col>&lt;dbl&gt;</th></tr>\n",
       "</thead>\n",
       "<tbody>\n",
       "\t<tr><td>accuracy</td><td>binary</td><td>0.5909091</td></tr>\n",
       "\t<tr><td>kap     </td><td>binary</td><td>0.1818182</td></tr>\n",
       "</tbody>\n",
       "</table>\n"
      ],
      "text/latex": [
       "A tibble: 2 × 3\n",
       "\\begin{tabular}{lll}\n",
       " .metric & .estimator & .estimate\\\\\n",
       " <chr> & <chr> & <dbl>\\\\\n",
       "\\hline\n",
       "\t accuracy & binary & 0.5909091\\\\\n",
       "\t kap      & binary & 0.1818182\\\\\n",
       "\\end{tabular}\n"
      ],
      "text/markdown": [
       "\n",
       "A tibble: 2 × 3\n",
       "\n",
       "| .metric &lt;chr&gt; | .estimator &lt;chr&gt; | .estimate &lt;dbl&gt; |\n",
       "|---|---|---|\n",
       "| accuracy | binary | 0.5909091 |\n",
       "| kap      | binary | 0.1818182 |\n",
       "\n"
      ],
      "text/plain": [
       "  .metric  .estimator .estimate\n",
       "1 accuracy binary     0.5909091\n",
       "2 kap      binary     0.1818182"
      ]
     },
     "metadata": {},
     "output_type": "display_data"
    },
    {
     "data": {
      "text/plain": [
       "          Truth\n",
       "Prediction  0  1\n",
       "         0 46 36\n",
       "         1  9 19"
      ]
     },
     "metadata": {},
     "output_type": "display_data"
    },
    {
     "data": {
      "image/png": "[encoded data removed]",
      "text/plain": [
       "plot without title"
      ]
     },
     "metadata": {
      "image/png": {
       "height": 420,
       "width": 420
      }
     },
     "output_type": "display_data"
    }
   ],
   "source": [
    "set.seed(2000)\n",
    "recipe <- recipe(presence_of_h_d ~ resting_bp, data = training_data) %>% step_scale(all_predictors()) %>% step_center(all_predictors())\n",
    "recipe\n",
    "\n",
    "train_vfold <- vfold_cv(training_data, v = 10, strata = presence_of_h_d)\n",
    "\n",
    "spec <- nearest_neighbor(weight_func = \"rectangular\", neighbors = tune()) %>%\n",
    "      set_engine(\"kknn\") %>%\n",
    "      set_mode(\"classification\")\n",
    "\n",
    "training_fit <- workflow() %>%\n",
    "      add_recipe(recipe) %>%\n",
    "      add_model(spec) %>%\n",
    "      tune_grid(resamples = train_vfold, grid = 10) %>%\n",
    "      collect_metrics() \n",
    "\n",
    "# training_fit\n",
    "\n",
    "accuracies <- training_fit %>% \n",
    "      filter(.metric == \"accuracy\")\n",
    "\n",
    "cross_val_plot <- accuracies %>%\n",
    "     ggplot(aes(x = neighbors, y = mean))+\n",
    "      geom_point() +\n",
    "      geom_line() +\n",
    "      labs(x = \"Neighbors\", y = \"Accuracy\") +\n",
    "     theme(text = element_text (size = 16))\n",
    "\n",
    "cross_val_plot\n",
    "\n",
    "k_for_all <- accuracies %>% arrange(desc(mean)) %>% head(1) %>% pull(neighbors)\n",
    "accuracies\n",
    "k_for_all\n",
    "\n",
    "spec <- nearest_neighbor(weight_func = \"rectangular\", neighbors = k_for_all) %>%\n",
    "      set_engine(\"kknn\") %>%\n",
    "      set_mode(\"classification\")\n",
    "\n",
    "fit <- workflow() %>%\n",
    "      add_recipe(recipe) %>%\n",
    "      add_model(spec) %>%\n",
    "      fit(data = training_data)\n",
    "\n",
    "predictions_all <-predict(fit, testing_data) %>% bind_cols(testing_data) %>% metrics(truth = presence_of_h_d, estimate = .pred_class)\n",
    "predictions_all\n",
    "\n",
    "predictions_matixs <- predict(fit, testing_data) %>% bind_cols(testing_data)%>%\n",
    "     conf_mat(truth=presence_of_h_d,estimate=.pred_class)\n",
    "predictions_matixs\n",
    "\n",
    "#Pull results\n",
    "bp_accuracy<-predictions_all %>% filter(.metric == \"accuracy\") %>% pull(.estimate)"
   ]
  },
  {
   "cell_type": "markdown",
   "metadata": {},
   "source": [
    "#### 3. Using only Cholesterol (chol) as a predictor"
   ]
  },
  {
   "cell_type": "code",
   "execution_count": 59,
   "metadata": {},
   "outputs": [
    {
     "data": {
      "text/plain": [
       "Data Recipe\n",
       "\n",
       "Inputs:\n",
       "\n",
       "      role #variables\n",
       "   outcome          1\n",
       " predictor          1\n",
       "\n",
       "Operations:\n",
       "\n",
       "Scaling for all_predictors()\n",
       "Centering for all_predictors()"
      ]
     },
     "metadata": {},
     "output_type": "display_data"
    },
    {
     "data": {
      "text/html": [
       "<table>\n",
       "<caption>A tibble: 9 × 7</caption>\n",
       "<thead>\n",
       "\t<tr><th scope=col>neighbors</th><th scope=col>.metric</th><th scope=col>.estimator</th><th scope=col>mean</th><th scope=col>n</th><th scope=col>std_err</th><th scope=col>.config</th></tr>\n",
       "\t<tr><th scope=col>&lt;int&gt;</th><th scope=col>&lt;chr&gt;</th><th scope=col>&lt;chr&gt;</th><th scope=col>&lt;dbl&gt;</th><th scope=col>&lt;int&gt;</th><th scope=col>&lt;dbl&gt;</th><th scope=col>&lt;chr&gt;</th></tr>\n",
       "</thead>\n",
       "<tbody>\n",
       "\t<tr><td>1</td><td>accuracy</td><td>binary</td><td>0.6090909</td><td>10</td><td>0.04067836</td><td>Model1</td></tr>\n",
       "\t<tr><td>3</td><td>accuracy</td><td>binary</td><td>0.6000000</td><td>10</td><td>0.04443813</td><td>Model2</td></tr>\n",
       "\t<tr><td>4</td><td>accuracy</td><td>binary</td><td>0.6140909</td><td>10</td><td>0.03592187</td><td>Model3</td></tr>\n",
       "\t<tr><td>⋮</td><td>⋮</td><td>⋮</td><td>⋮</td><td>⋮</td><td>⋮</td><td>⋮</td></tr>\n",
       "\t<tr><td>11</td><td>accuracy</td><td>binary</td><td>0.5227273</td><td>10</td><td>0.04034971</td><td>Model7</td></tr>\n",
       "\t<tr><td>12</td><td>accuracy</td><td>binary</td><td>0.5368182</td><td>10</td><td>0.04022692</td><td>Model8</td></tr>\n",
       "\t<tr><td>15</td><td>accuracy</td><td>binary</td><td>0.5086364</td><td>10</td><td>0.04028394</td><td>Model9</td></tr>\n",
       "</tbody>\n",
       "</table>\n"
      ],
      "text/latex": [
       "A tibble: 9 × 7\n",
       "\\begin{tabular}{lllllll}\n",
       " neighbors & .metric & .estimator & mean & n & std\\_err & .config\\\\\n",
       " <int> & <chr> & <chr> & <dbl> & <int> & <dbl> & <chr>\\\\\n",
       "\\hline\n",
       "\t 1 & accuracy & binary & 0.6090909 & 10 & 0.04067836 & Model1\\\\\n",
       "\t 3 & accuracy & binary & 0.6000000 & 10 & 0.04443813 & Model2\\\\\n",
       "\t 4 & accuracy & binary & 0.6140909 & 10 & 0.03592187 & Model3\\\\\n",
       "\t ⋮ & ⋮ & ⋮ & ⋮ & ⋮ & ⋮ & ⋮\\\\\n",
       "\t 11 & accuracy & binary & 0.5227273 & 10 & 0.04034971 & Model7\\\\\n",
       "\t 12 & accuracy & binary & 0.5368182 & 10 & 0.04022692 & Model8\\\\\n",
       "\t 15 & accuracy & binary & 0.5086364 & 10 & 0.04028394 & Model9\\\\\n",
       "\\end{tabular}\n"
      ],
      "text/markdown": [
       "\n",
       "A tibble: 9 × 7\n",
       "\n",
       "| neighbors &lt;int&gt; | .metric &lt;chr&gt; | .estimator &lt;chr&gt; | mean &lt;dbl&gt; | n &lt;int&gt; | std_err &lt;dbl&gt; | .config &lt;chr&gt; |\n",
       "|---|---|---|---|---|---|---|\n",
       "| 1 | accuracy | binary | 0.6090909 | 10 | 0.04067836 | Model1 |\n",
       "| 3 | accuracy | binary | 0.6000000 | 10 | 0.04443813 | Model2 |\n",
       "| 4 | accuracy | binary | 0.6140909 | 10 | 0.03592187 | Model3 |\n",
       "| ⋮ | ⋮ | ⋮ | ⋮ | ⋮ | ⋮ | ⋮ |\n",
       "| 11 | accuracy | binary | 0.5227273 | 10 | 0.04034971 | Model7 |\n",
       "| 12 | accuracy | binary | 0.5368182 | 10 | 0.04022692 | Model8 |\n",
       "| 15 | accuracy | binary | 0.5086364 | 10 | 0.04028394 | Model9 |\n",
       "\n"
      ],
      "text/plain": [
       "  neighbors .metric  .estimator mean      n  std_err    .config\n",
       "1 1         accuracy binary     0.6090909 10 0.04067836 Model1 \n",
       "2 3         accuracy binary     0.6000000 10 0.04443813 Model2 \n",
       "3 4         accuracy binary     0.6140909 10 0.03592187 Model3 \n",
       "⋮ ⋮         ⋮        ⋮          ⋮         ⋮  ⋮          ⋮      \n",
       "7 11        accuracy binary     0.5227273 10 0.04034971 Model7 \n",
       "8 12        accuracy binary     0.5368182 10 0.04022692 Model8 \n",
       "9 15        accuracy binary     0.5086364 10 0.04028394 Model9 "
      ]
     },
     "metadata": {},
     "output_type": "display_data"
    },
    {
     "data": {
      "text/html": [
       "4"
      ],
      "text/latex": [
       "4"
      ],
      "text/markdown": [
       "4"
      ],
      "text/plain": [
       "[1] 4"
      ]
     },
     "metadata": {},
     "output_type": "display_data"
    },
    {
     "data": {
      "text/html": [
       "<table>\n",
       "<caption>A tibble: 2 × 3</caption>\n",
       "<thead>\n",
       "\t<tr><th scope=col>.metric</th><th scope=col>.estimator</th><th scope=col>.estimate</th></tr>\n",
       "\t<tr><th scope=col>&lt;chr&gt;</th><th scope=col>&lt;chr&gt;</th><th scope=col>&lt;dbl&gt;</th></tr>\n",
       "</thead>\n",
       "<tbody>\n",
       "\t<tr><td>accuracy</td><td>binary</td><td>0.6</td></tr>\n",
       "\t<tr><td>kap     </td><td>binary</td><td>0.2</td></tr>\n",
       "</tbody>\n",
       "</table>\n"
      ],
      "text/latex": [
       "A tibble: 2 × 3\n",
       "\\begin{tabular}{lll}\n",
       " .metric & .estimator & .estimate\\\\\n",
       " <chr> & <chr> & <dbl>\\\\\n",
       "\\hline\n",
       "\t accuracy & binary & 0.6\\\\\n",
       "\t kap      & binary & 0.2\\\\\n",
       "\\end{tabular}\n"
      ],
      "text/markdown": [
       "\n",
       "A tibble: 2 × 3\n",
       "\n",
       "| .metric &lt;chr&gt; | .estimator &lt;chr&gt; | .estimate &lt;dbl&gt; |\n",
       "|---|---|---|\n",
       "| accuracy | binary | 0.6 |\n",
       "| kap      | binary | 0.2 |\n",
       "\n"
      ],
      "text/plain": [
       "  .metric  .estimator .estimate\n",
       "1 accuracy binary     0.6      \n",
       "2 kap      binary     0.2      "
      ]
     },
     "metadata": {},
     "output_type": "display_data"
    },
    {
     "data": {
      "text/plain": [
       "          Truth\n",
       "Prediction  0  1\n",
       "         0 33 22\n",
       "         1 22 33"
      ]
     },
     "metadata": {},
     "output_type": "display_data"
    },
    {
     "data": {
      "image/png": "[encoded data removed]",
      "text/plain": [
       "plot without title"
      ]
     },
     "metadata": {
      "image/png": {
       "height": 420,
       "width": 420
      }
     },
     "output_type": "display_data"
    }
   ],
   "source": [
    "set.seed(2000)\n",
    "recipe <- recipe(presence_of_h_d ~ chol, data = training_data) %>% step_scale(all_predictors()) %>% step_center(all_predictors())\n",
    "recipe\n",
    "\n",
    "train_vfold <- vfold_cv(training_data, v = 10, strata = presence_of_h_d)\n",
    "\n",
    "spec <- nearest_neighbor(weight_func = \"rectangular\", neighbors = tune()) %>%\n",
    "      set_engine(\"kknn\") %>%\n",
    "      set_mode(\"classification\")\n",
    "\n",
    "training_fit <- workflow() %>%\n",
    "      add_recipe(recipe) %>%\n",
    "      add_model(spec) %>%\n",
    "      tune_grid(resamples = train_vfold, grid = 10) %>%\n",
    "      collect_metrics() \n",
    "\n",
    "# training_fit\n",
    "\n",
    "accuracies <- training_fit %>% \n",
    "      filter(.metric == \"accuracy\")\n",
    "\n",
    "cross_val_plot <- accuracies %>%\n",
    "     ggplot(aes(x = neighbors, y = mean))+\n",
    "      geom_point() +\n",
    "      geom_line() +\n",
    "      labs(x = \"Neighbors\", y = \"Accuracy\") +\n",
    "     theme(text = element_text (size = 16))\n",
    "\n",
    "cross_val_plot\n",
    "\n",
    "k_for_all <- accuracies %>% arrange(desc(mean)) %>% head(1) %>% pull(neighbors)\n",
    "accuracies\n",
    "k_for_all\n",
    "\n",
    "spec <- nearest_neighbor(weight_func = \"rectangular\", neighbors = k_for_all) %>%\n",
    "      set_engine(\"kknn\") %>%\n",
    "      set_mode(\"classification\")\n",
    "\n",
    "fit <- workflow() %>%\n",
    "      add_recipe(recipe) %>%\n",
    "      add_model(spec) %>%\n",
    "      fit(data = training_data)\n",
    "\n",
    "predictions_all <-predict(fit, testing_data) %>% bind_cols(testing_data) %>% metrics(truth = presence_of_h_d, estimate = .pred_class)\n",
    "predictions_all\n",
    "predictions_matixs <- predict(fit, testing_data) %>% bind_cols(testing_data)%>%\n",
    "     conf_mat(truth=presence_of_h_d,estimate=.pred_class)\n",
    "predictions_matixs\n",
    "\n",
    "#Pull results\n",
    "chol_accuracy<-predictions_all %>% filter(.metric == \"accuracy\") %>% pull(.estimate)"
   ]
  },
  {
   "cell_type": "markdown",
   "metadata": {},
   "source": [
    "### 4. Using only Maximum heart rate(HR) as a predictor"
   ]
  },
  {
   "cell_type": "code",
   "execution_count": 61,
   "metadata": {},
   "outputs": [
    {
     "data": {
      "text/plain": [
       "Data Recipe\n",
       "\n",
       "Inputs:\n",
       "\n",
       "      role #variables\n",
       "   outcome          1\n",
       " predictor          1\n",
       "\n",
       "Operations:\n",
       "\n",
       "Scaling for all_predictors()\n",
       "Centering for all_predictors()"
      ]
     },
     "metadata": {},
     "output_type": "display_data"
    },
    {
     "data": {
      "text/html": [
       "<table>\n",
       "<caption>A tibble: 9 × 7</caption>\n",
       "<thead>\n",
       "\t<tr><th scope=col>neighbors</th><th scope=col>.metric</th><th scope=col>.estimator</th><th scope=col>mean</th><th scope=col>n</th><th scope=col>std_err</th><th scope=col>.config</th></tr>\n",
       "\t<tr><th scope=col>&lt;int&gt;</th><th scope=col>&lt;chr&gt;</th><th scope=col>&lt;chr&gt;</th><th scope=col>&lt;dbl&gt;</th><th scope=col>&lt;int&gt;</th><th scope=col>&lt;dbl&gt;</th><th scope=col>&lt;chr&gt;</th></tr>\n",
       "</thead>\n",
       "<tbody>\n",
       "\t<tr><td>1</td><td>accuracy</td><td>binary</td><td>0.6300000</td><td>10</td><td>0.02267874</td><td>Model1</td></tr>\n",
       "\t<tr><td>3</td><td>accuracy</td><td>binary</td><td>0.6990909</td><td>10</td><td>0.02637234</td><td>Model2</td></tr>\n",
       "\t<tr><td>4</td><td>accuracy</td><td>binary</td><td>0.7040909</td><td>10</td><td>0.02396096</td><td>Model3</td></tr>\n",
       "\t<tr><td>⋮</td><td>⋮</td><td>⋮</td><td>⋮</td><td>⋮</td><td>⋮</td><td>⋮</td></tr>\n",
       "\t<tr><td>11</td><td>accuracy</td><td>binary</td><td>0.7127273</td><td>10</td><td>0.02879426</td><td>Model7</td></tr>\n",
       "\t<tr><td>12</td><td>accuracy</td><td>binary</td><td>0.7172727</td><td>10</td><td>0.02940175</td><td>Model8</td></tr>\n",
       "\t<tr><td>15</td><td>accuracy</td><td>binary</td><td>0.7354545</td><td>10</td><td>0.02526989</td><td>Model9</td></tr>\n",
       "</tbody>\n",
       "</table>\n"
      ],
      "text/latex": [
       "A tibble: 9 × 7\n",
       "\\begin{tabular}{lllllll}\n",
       " neighbors & .metric & .estimator & mean & n & std\\_err & .config\\\\\n",
       " <int> & <chr> & <chr> & <dbl> & <int> & <dbl> & <chr>\\\\\n",
       "\\hline\n",
       "\t 1 & accuracy & binary & 0.6300000 & 10 & 0.02267874 & Model1\\\\\n",
       "\t 3 & accuracy & binary & 0.6990909 & 10 & 0.02637234 & Model2\\\\\n",
       "\t 4 & accuracy & binary & 0.7040909 & 10 & 0.02396096 & Model3\\\\\n",
       "\t ⋮ & ⋮ & ⋮ & ⋮ & ⋮ & ⋮ & ⋮\\\\\n",
       "\t 11 & accuracy & binary & 0.7127273 & 10 & 0.02879426 & Model7\\\\\n",
       "\t 12 & accuracy & binary & 0.7172727 & 10 & 0.02940175 & Model8\\\\\n",
       "\t 15 & accuracy & binary & 0.7354545 & 10 & 0.02526989 & Model9\\\\\n",
       "\\end{tabular}\n"
      ],
      "text/markdown": [
       "\n",
       "A tibble: 9 × 7\n",
       "\n",
       "| neighbors &lt;int&gt; | .metric &lt;chr&gt; | .estimator &lt;chr&gt; | mean &lt;dbl&gt; | n &lt;int&gt; | std_err &lt;dbl&gt; | .config &lt;chr&gt; |\n",
       "|---|---|---|---|---|---|---|\n",
       "| 1 | accuracy | binary | 0.6300000 | 10 | 0.02267874 | Model1 |\n",
       "| 3 | accuracy | binary | 0.6990909 | 10 | 0.02637234 | Model2 |\n",
       "| 4 | accuracy | binary | 0.7040909 | 10 | 0.02396096 | Model3 |\n",
       "| ⋮ | ⋮ | ⋮ | ⋮ | ⋮ | ⋮ | ⋮ |\n",
       "| 11 | accuracy | binary | 0.7127273 | 10 | 0.02879426 | Model7 |\n",
       "| 12 | accuracy | binary | 0.7172727 | 10 | 0.02940175 | Model8 |\n",
       "| 15 | accuracy | binary | 0.7354545 | 10 | 0.02526989 | Model9 |\n",
       "\n"
      ],
      "text/plain": [
       "  neighbors .metric  .estimator mean      n  std_err    .config\n",
       "1 1         accuracy binary     0.6300000 10 0.02267874 Model1 \n",
       "2 3         accuracy binary     0.6990909 10 0.02637234 Model2 \n",
       "3 4         accuracy binary     0.7040909 10 0.02396096 Model3 \n",
       "⋮ ⋮         ⋮        ⋮          ⋮         ⋮  ⋮          ⋮      \n",
       "7 11        accuracy binary     0.7127273 10 0.02879426 Model7 \n",
       "8 12        accuracy binary     0.7172727 10 0.02940175 Model8 \n",
       "9 15        accuracy binary     0.7354545 10 0.02526989 Model9 "
      ]
     },
     "metadata": {},
     "output_type": "display_data"
    },
    {
     "data": {
      "text/html": [
       "6"
      ],
      "text/latex": [
       "6"
      ],
      "text/markdown": [
       "6"
      ],
      "text/plain": [
       "[1] 6"
      ]
     },
     "metadata": {},
     "output_type": "display_data"
    },
    {
     "data": {
      "text/html": [
       "<table>\n",
       "<caption>A tibble: 2 × 3</caption>\n",
       "<thead>\n",
       "\t<tr><th scope=col>.metric</th><th scope=col>.estimator</th><th scope=col>.estimate</th></tr>\n",
       "\t<tr><th scope=col>&lt;chr&gt;</th><th scope=col>&lt;chr&gt;</th><th scope=col>&lt;dbl&gt;</th></tr>\n",
       "</thead>\n",
       "<tbody>\n",
       "\t<tr><td>accuracy</td><td>binary</td><td>0.7181818</td></tr>\n",
       "\t<tr><td>kap     </td><td>binary</td><td>0.4363636</td></tr>\n",
       "</tbody>\n",
       "</table>\n"
      ],
      "text/latex": [
       "A tibble: 2 × 3\n",
       "\\begin{tabular}{lll}\n",
       " .metric & .estimator & .estimate\\\\\n",
       " <chr> & <chr> & <dbl>\\\\\n",
       "\\hline\n",
       "\t accuracy & binary & 0.7181818\\\\\n",
       "\t kap      & binary & 0.4363636\\\\\n",
       "\\end{tabular}\n"
      ],
      "text/markdown": [
       "\n",
       "A tibble: 2 × 3\n",
       "\n",
       "| .metric &lt;chr&gt; | .estimator &lt;chr&gt; | .estimate &lt;dbl&gt; |\n",
       "|---|---|---|\n",
       "| accuracy | binary | 0.7181818 |\n",
       "| kap      | binary | 0.4363636 |\n",
       "\n"
      ],
      "text/plain": [
       "  .metric  .estimator .estimate\n",
       "1 accuracy binary     0.7181818\n",
       "2 kap      binary     0.4363636"
      ]
     },
     "metadata": {},
     "output_type": "display_data"
    },
    {
     "data": {
      "text/plain": [
       "          Truth\n",
       "Prediction  0  1\n",
       "         0 37 13\n",
       "         1 18 42"
      ]
     },
     "metadata": {},
     "output_type": "display_data"
    },
    {
     "data": {
      "image/png": "[encoded data removed]",
      "text/plain": [
       "plot without title"
      ]
     },
     "metadata": {
      "image/png": {
       "height": 420,
       "width": 420
      }
     },
     "output_type": "display_data"
    }
   ],
   "source": [
    "set.seed(2000)\n",
    "recipe <- recipe(presence_of_h_d ~ maximum_heart_rate_achieved, data = training_data) %>% step_scale(all_predictors()) %>% step_center(all_predictors())\n",
    "recipe\n",
    "\n",
    "train_vfold <- vfold_cv(training_data, v = 10, strata = presence_of_h_d)\n",
    "\n",
    "spec <- nearest_neighbor(weight_func = \"rectangular\", neighbors = tune()) %>%\n",
    "      set_engine(\"kknn\") %>%\n",
    "      set_mode(\"classification\")\n",
    "\n",
    "training_fit <- workflow() %>%\n",
    "      add_recipe(recipe) %>%\n",
    "      add_model(spec) %>%\n",
    "      tune_grid(resamples = train_vfold, grid = 10) %>%\n",
    "      collect_metrics() \n",
    "\n",
    "# training_fit\n",
    "\n",
    "accuracies <- training_fit %>% \n",
    "      filter(.metric == \"accuracy\")\n",
    "\n",
    "cross_val_plot <- accuracies %>%\n",
    "     ggplot(aes(x = neighbors, y = mean))+\n",
    "      geom_point() +\n",
    "      geom_line() +\n",
    "      labs(x = \"Neighbors\", y = \"Accuracy\") +\n",
    "     theme(text = element_text (size = 16))\n",
    "\n",
    "cross_val_plot\n",
    "\n",
    "k_for_all <- accuracies %>% arrange(desc(mean)) %>% head(1) %>% pull(neighbors)\n",
    "accuracies\n",
    "k_for_all\n",
    "\n",
    "spec <- nearest_neighbor(weight_func = \"rectangular\", neighbors = k_for_all) %>%\n",
    "      set_engine(\"kknn\") %>%\n",
    "      set_mode(\"classification\")\n",
    "\n",
    "fit <- workflow() %>%\n",
    "      add_recipe(recipe) %>%\n",
    "      add_model(spec) %>%\n",
    "      fit(data = training_data)\n",
    "\n",
    "predictions_all <-predict(fit, testing_data) %>% bind_cols(testing_data) %>% metrics(truth = presence_of_h_d, estimate = .pred_class)\n",
    "predictions_all\n",
    "predictions_matixs <- predict(fit, testing_data) %>% bind_cols(testing_data)%>%\n",
    "     conf_mat(truth=presence_of_h_d,estimate=.pred_class)\n",
    "predictions_matixs\n",
    "\n",
    "#Pull results\n",
    "heart_rate_accuracy<-predictions_all %>% filter(.metric == \"accuracy\") %>% pull(.estimate)"
   ]
  },
  {
   "cell_type": "markdown",
   "metadata": {},
   "source": [
    "### Methods"
   ]
  },
  {
   "cell_type": "markdown",
   "metadata": {},
   "source": [
    "For this project, we will use cleveland.data and the following five factors: age, sex, resting blood pressure, cholesterol level, maximum heart rate achieved, and the presence of heart disease. We chose these attributes because previous research from Texas Heart Institute indicates these as some of the risk factors in developing heart disease.\n",
    "To conduct our analysis, we will first wrangle the data by selecting and filtering for the data we need and mutating it to be more easily read (e.g. from genders 0 and 1 into female and male). Then we will split the data into training and testing data, where we will train a k-nearest neighbor model using the five attributes as predictors and test it on our test data. Finally, we will use a bar chart to visualize our results and help us determine the top three attributes.\n"
   ]
  },
  {
   "cell_type": "markdown",
   "metadata": {},
   "source": [
    "### Results"
   ]
  },
  {
   "cell_type": "code",
   "execution_count": null,
   "metadata": {},
   "outputs": [],
   "source": [
    "tb <-tibble( `Predictor` = c(\"Age\", \"BP\", \"Chol\", \"HR\"), 'Accuracy' = c(age_accuracy, bp_accuracy, chol_accuracy, heart_rate_accuracy))\n",
    "\n",
    "plot<- ggplot(tb, aes(x = Predictor, y = Accuracy)) +\n",
    "        geom_bar(stat=\"identity\") +\n",
    "        labs(x = \"Predictors\",y = \"Accuracy\") +\n",
    "        ggtitle(\"Accuracy relative to Predictors\") +\n",
    "        theme(text = element_text(size = 14))\n",
    "plot"
   ]
  },
  {
   "cell_type": "markdown",
   "metadata": {},
   "source": [
    "### Discussion"
   ]
  },
  {
   "cell_type": "markdown",
   "metadata": {},
   "source": [
    "### References"
   ]
  },
  {
   "cell_type": "markdown",
   "metadata": {},
   "source": [
    "1. Heart disease risk factors. Texas Heart Institute. (2020, September 30). Retrieved April 4, 2022, from https://www.texasheart.org/heart-health/heart-information-center/topics/heart-disease-risk-factors/  \n",
    "2. Government Of Canada, S. C. (2020, November 26). Table 1 leading causes of death in Canada, 2019 . Leading causes of death in Canada, 2019. Retrieved April 4, 2022, from https://www150.statcan.gc.ca/n1/daily-quotidien/201126/t001b-eng.htm \n",
    "3. Heart Disease Data Set. UCI Machine Learning Repository: Heart disease data set. (n.d.). Retrieved April 4, 2022, from https://archive.ics.uci.edu/ml/datasets/Heart+Disease "
   ]
  }
 ],
 "metadata": {
  "kernelspec": {
   "display_name": "R",
   "language": "R",
   "name": "ir"
  },
  "language_info": {
   "codemirror_mode": "r",
   "file_extension": ".r",
   "mimetype": "text/x-r-source",
   "name": "R",
   "pygments_lexer": "r",
   "version": "4.0.0"
  }
 },
 "nbformat": 4,
 "nbformat_minor": 4
}
